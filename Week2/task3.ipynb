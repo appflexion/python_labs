{
 "cells": [
  {
   "cell_type": "code",
   "execution_count": 8,
   "metadata": {},
   "outputs": [
    {
     "name": "stdout",
     "output_type": "stream",
     "text": [
      "Prime list\n",
      "[2, 3, 5, 7, 11, 13, 17, 19, 23, 29, 31, 37, 41, 43, 47]\n",
      "\n",
      "Non Prime list\n",
      "[4, 6, 8, 9, 10, 12, 14, 15, 16, 18, 20, 21, 22, 24, 25, 26, 27, 28, 30, 32, 33, 34, 35, 36, 38, 39, 40, 42, 44, 45, 46, 48, 49]\n"
     ]
    }
   ],
   "source": [
    "# Week 02 Task 3\n",
    "# EP-1850001 Abdul Mujeeb\n",
    "# write for & while loop to print prime & non prime numbers as well a list of 50 different numbers\n",
    "\n",
    "start = 1\n",
    "end = 50\n",
    "primes = set()\n",
    "non_prime = set()\n",
    "\n",
    "for i in range(start,end):\n",
    "  if i>1:\n",
    "    for j in range(2,i):\n",
    "        if(i % j==0):\n",
    "             non_prime.add(i)\n",
    "             break\n",
    "    else:\n",
    "        primes.add(i)\n",
    "\n",
    "print(\"Prime list\")\n",
    "print(sorted(primes))\n",
    "\n",
    "print(\"\\nNon Prime list\")\n",
    "print(sorted(non_prime))"
   ]
  },
  {
   "cell_type": "code",
   "execution_count": 7,
   "metadata": {},
   "outputs": [
    {
     "name": "stdout",
     "output_type": "stream",
     "text": [
      "Prime list\n",
      "[2, 3, 5, 7, 11, 13, 17, 19, 23, 29, 31, 37, 41, 43, 47]\n",
      "\n",
      "Non Prime list\n",
      "[4, 6, 8, 9, 10, 12, 14, 15, 16, 18, 20, 21, 22, 24, 25, 26, 27, 28, 30, 32, 33, 34, 35, 36, 38, 39, 40, 42, 44, 45, 46, 48, 49, 50]\n"
     ]
    }
   ],
   "source": [
    "# Week 02 Task 3\n",
    "# EP-1850001 Abdul Mujeeb\n",
    "start = 2\n",
    "end = 50\n",
    "\n",
    "primes = []\n",
    "non_prime = []\n",
    "\n",
    "\n",
    "while start < end+1: \n",
    "    num = 2\n",
    "    while num < start:\n",
    "        if start % num == 0:\n",
    "            non_prime.append(start)\n",
    "            break\n",
    "        num += 1\n",
    "\n",
    "    else:\n",
    "        primes.append(start)\n",
    "\n",
    "    start += 1\n",
    "    \n",
    "print(\"Prime list\")\n",
    "print(primes)\n",
    "print(\"\\nNon Prime list\")\n",
    "print(non_prime)"
   ]
  },
  {
   "cell_type": "code",
   "execution_count": null,
   "metadata": {},
   "outputs": [],
   "source": []
  }
 ],
 "metadata": {
  "kernelspec": {
   "display_name": "Python 3",
   "language": "python",
   "name": "python3"
  },
  "language_info": {
   "codemirror_mode": {
    "name": "ipython",
    "version": 3
   },
   "file_extension": ".py",
   "mimetype": "text/x-python",
   "name": "python",
   "nbconvert_exporter": "python",
   "pygments_lexer": "ipython3",
   "version": "3.8.3"
  }
 },
 "nbformat": 4,
 "nbformat_minor": 4
}
